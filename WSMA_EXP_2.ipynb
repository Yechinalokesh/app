{
  "nbformat": 4,
  "nbformat_minor": 0,
  "metadata": {
    "colab": {
      "provenance": [],
      "authorship_tag": "ABX9TyPaOFoN2qMo3sLvxo1ha3+o",
      "include_colab_link": true
    },
    "kernelspec": {
      "name": "python3",
      "display_name": "Python 3"
    },
    "language_info": {
      "name": "python"
    }
  },
  "cells": [
    {
      "cell_type": "markdown",
      "metadata": {
        "id": "view-in-github",
        "colab_type": "text"
      },
      "source": [
        "<a href=\"https://colab.research.google.com/github/Yechinalokesh/app/blob/main/WSMA_EXP_2.ipynb\" target=\"_parent\"><img src=\"https://colab.research.google.com/assets/colab-badge.svg\" alt=\"Open In Colab\"/></a>"
      ]
    },
    {
      "cell_type": "code",
      "execution_count": 1,
      "metadata": {
        "colab": {
          "base_uri": "https://localhost:8080/"
        },
        "id": "KkZcVB1gfHa4",
        "outputId": "a6788d97-f74b-44d3-e36e-14d5525aada5"
      },
      "outputs": [
        {
          "output_type": "stream",
          "name": "stdout",
          "text": [
            "Review: The product quality is amazing. Highly recommend it!\n",
            "Sentiment: Positive, Polarity: 0.4\n",
            "\n",
            "Review: Worst purchase ever. Completely disappointed.\n",
            "Sentiment: Negative, Polarity: -0.875\n",
            "\n",
            "Review: The product is okay, nothing exceptional.\n",
            "Sentiment: Positive, Polarity: 0.5833333333333333\n",
            "\n",
            "Review: Excellent service and fast delivery.\n",
            "Sentiment: Positive, Polarity: 0.6\n",
            "\n",
            "Review: Not worth the money.\n",
            "Sentiment: Negative, Polarity: -0.15\n",
            "\n"
          ]
        }
      ],
      "source": [
        "# Install TextBlob if not installed\n",
        "# !pip install textblob\n",
        "\n",
        "from textblob import TextBlob\n",
        "\n",
        "# Sample customer reviews\n",
        "reviews = [\n",
        "    \"The product quality is amazing. Highly recommend it!\",\n",
        "    \"Worst purchase ever. Completely disappointed.\",\n",
        "    \"The product is okay, nothing exceptional.\",\n",
        "    \"Excellent service and fast delivery.\",\n",
        "    \"Not worth the money.\"\n",
        "]\n",
        "\n",
        "# Perform sentiment analysis\n",
        "for review in reviews:\n",
        "    analysis = TextBlob(review)\n",
        "    polarity = analysis.sentiment.polarity\n",
        "    if polarity > 0:\n",
        "        sentiment = \"Positive\"\n",
        "    elif polarity < 0:\n",
        "        sentiment = \"Negative\"\n",
        "    else:\n",
        "        sentiment = \"Neutral\"\n",
        "    print(f\"Review: {review}\")\n",
        "    print(f\"Sentiment: {sentiment}, Polarity: {polarity}\\n\")\n"
      ]
    }
  ]
}