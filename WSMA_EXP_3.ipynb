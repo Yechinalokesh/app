{
  "nbformat": 4,
  "nbformat_minor": 0,
  "metadata": {
    "colab": {
      "provenance": [],
      "authorship_tag": "ABX9TyP2KAsHwAfB9nl1nVb4qtIc",
      "include_colab_link": true
    },
    "kernelspec": {
      "name": "python3",
      "display_name": "Python 3"
    },
    "language_info": {
      "name": "python"
    }
  },
  "cells": [
    {
      "cell_type": "markdown",
      "metadata": {
        "id": "view-in-github",
        "colab_type": "text"
      },
      "source": [
        "<a href=\"https://colab.research.google.com/github/Yechinalokesh/Web-and-Social-Media-Analytics-Lab/blob/main/WSMA_EXP_3.ipynb\" target=\"_parent\"><img src=\"https://colab.research.google.com/assets/colab-badge.svg\" alt=\"Open In Colab\"/></a>"
      ]
    },
    {
      "cell_type": "code",
      "execution_count": 2,
      "metadata": {
        "colab": {
          "base_uri": "https://localhost:8080/"
        },
        "id": "gELU7UZzkQ1i",
        "outputId": "2f4985a9-4e98-471b-fbd9-d38d2d0dc95c"
      },
      "outputs": [
        {
          "output_type": "stream",
          "name": "stdout",
          "text": [
            "Web Server Log Analysis:\n",
            "Total Requests : 2\n",
            "Successful Requests : 1\n",
            "Error Rate : 50.00%\n",
            "\n",
            "Clickstream Data Analysis:\n",
            "Page View Counts :\n",
            "/home : 1\n",
            "/products : 1\n",
            "/products/product1 : 1\n",
            "/about : 1\n",
            "/contact : 1\n"
          ]
        }
      ],
      "source": [
        "# Sample Web Server Log Data\n",
        "web_server_logs = [\n",
        "    \"192.168.1.1 - [10/Oct/2023:10:30:45] 'GET /page1 HTTP/1.1' 200 1234\",\n",
        "    \"192.168.1.2 - [10/Oct/2023:10:31:15] 'GET /page2 HTTP/1.1' 404 567\"\n",
        "]\n",
        "\n",
        "# Sample Clickstream Data\n",
        "clickstream_data = [\n",
        "    \"/home\",\n",
        "    \"/products\",\n",
        "    \"/products/product1\",\n",
        "    \"/about\",\n",
        "    \"/contact\"\n",
        "]\n",
        "\n",
        "# Function to analyze web server logs\n",
        "def analyze_web_logs(logs):\n",
        "    total_requests = len(logs)\n",
        "    successful_requests = sum(1 for log in logs if log.endswith(\"200 1234\"))\n",
        "    error_rate = (total_requests - successful_requests) / total_requests * 100\n",
        "\n",
        "    print(f\"Total Requests : {total_requests}\")\n",
        "    print(f\"Successful Requests : {successful_requests}\")\n",
        "    print(f\"Error Rate : {error_rate:.2f}%\")\n",
        "\n",
        "# Function to analyze clickstream data\n",
        "def analyze_clickstream_data(data):\n",
        "    page_counts = {}\n",
        "    for page in data:\n",
        "        if page in page_counts:\n",
        "            page_counts[page] += 1\n",
        "        else:\n",
        "            page_counts[page] = 1\n",
        "\n",
        "    print(\"Page View Counts :\")\n",
        "    for page, count in page_counts.items():\n",
        "        print(f\"{page} : {count}\")\n",
        "\n",
        "# Main block\n",
        "if __name__ == \"__main__\":\n",
        "    print(\"Web Server Log Analysis:\")\n",
        "    analyze_web_logs(web_server_logs)\n",
        "\n",
        "    print(\"\\nClickstream Data Analysis:\")\n",
        "    analyze_clickstream_data(clickstream_data)\n"
      ]
    }
  ]
}