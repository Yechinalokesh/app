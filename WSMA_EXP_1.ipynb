{
  "nbformat": 4,
  "nbformat_minor": 0,
  "metadata": {
    "colab": {
      "provenance": [],
      "authorship_tag": "ABX9TyNXlxzDCbD/MRM2wgj4RCI8",
      "include_colab_link": true
    },
    "kernelspec": {
      "name": "python3",
      "display_name": "Python 3"
    },
    "language_info": {
      "name": "python"
    }
  },
  "cells": [
    {
      "cell_type": "markdown",
      "metadata": {
        "id": "view-in-github",
        "colab_type": "text"
      },
      "source": [
        "<a href=\"https://colab.research.google.com/github/Yechinalokesh/app/blob/main/WSMA_EXP_1.ipynb\" target=\"_parent\"><img src=\"https://colab.research.google.com/assets/colab-badge.svg\" alt=\"Open In Colab\"/></a>"
      ]
    },
    {
      "cell_type": "code",
      "source": [
        "# Install nltk if not already installed\n",
        "!pip install nltk\n",
        "\n",
        "# Import necessary libraries\n",
        "import nltk\n",
        "from nltk.corpus import stopwords\n",
        "from nltk.stem import PorterStemmer, WordNetLemmatizer\n",
        "from nltk.tokenize import word_tokenize\n",
        "from nltk import pos_tag\n",
        "from nltk.probability import FreqDist\n",
        "\n",
        "# Download datasets required by nltk\n",
        "nltk.download('punkt', quiet=True)            # To split text into words\n",
        "nltk.download('stopwords', quiet=True)        # To remove common words like \"is\", \"the\"\n",
        "nltk.download('wordnet', quiet=True)          # For lemmatization\n",
        "nltk.download('averaged_perceptron_tagger', quiet=True)  # For tagging grammar roles\n",
        "nltk.download('averaged_perceptron_tagger_eng', quiet=True)  # Download alternate tagger just in case\n",
        "\n",
        "print(\"All libraries imported and datasets downloaded successfully!\\n\")\n",
        "\n",
        "# Load the text you want to process\n",
        "text = \"Natural Language Processing is a field of computer science, artificial intelligence and computational linguistics.\"\n",
        "print(\"Original Text:\")\n",
        "print(text, \"\\n\")\n",
        "\n",
        "# Step 1 – Tokenization: Split the text into words and punctuation\n",
        "tokens = word_tokenize(text)\n",
        "print(\"Tokens:\")\n",
        "print(tokens, \"\\n\")\n",
        "\n",
        "# Step 2 – Stopword Elimination: Remove common words like \"is\", \"a\", \"of\"\n",
        "stop_words = set(stopwords.words('english'))\n",
        "filtered_tokens = [word for word in tokens if word.lower() not in stop_words]\n",
        "print(\"After Stopword Removal:\")\n",
        "print(filtered_tokens, \"\\n\")\n",
        "\n",
        "# Step 3 – Stemming: Reduce words to their root form\n",
        "stemmer = PorterStemmer()\n",
        "stemmed_words = [stemmer.stem(word) for word in filtered_tokens]\n",
        "print(\"After Stemming:\")\n",
        "print(stemmed_words, \"\\n\")\n",
        "\n",
        "# Step 4 – Lemmatization: Convert words to their dictionary form\n",
        "lemmatizer = WordNetLemmatizer()\n",
        "lemmatized_words = [lemmatizer.lemmatize(word) for word in filtered_tokens]\n",
        "print(\"After Lemmatization:\")\n",
        "print(lemmatized_words, \"\\n\")\n",
        "\n",
        "# Step 5 – POS Tagging: Identify parts of speech for each word\n",
        "pos_tags = pos_tag(filtered_tokens)\n",
        "print(\"POS Tags:\")\n",
        "print(pos_tags, \"\\n\")\n",
        "\n",
        "# Step 6 – Lexical Analysis: Count frequency of each word\n",
        "freq = FreqDist(filtered_tokens)\n",
        "print(\"Word Frequency:\")\n",
        "print(freq.most_common())\n"
      ],
      "metadata": {
        "colab": {
          "base_uri": "https://localhost:8080/",
          "height": 0
        },
        "id": "YZBywrSdiFqk",
        "outputId": "18292df9-bb66-4c6f-95f8-db7db1d57f2d"
      },
      "execution_count": 7,
      "outputs": [
        {
          "output_type": "stream",
          "name": "stdout",
          "text": [
            "Requirement already satisfied: nltk in /usr/local/lib/python3.12/dist-packages (3.9.1)\n",
            "Requirement already satisfied: click in /usr/local/lib/python3.12/dist-packages (from nltk) (8.2.1)\n",
            "Requirement already satisfied: joblib in /usr/local/lib/python3.12/dist-packages (from nltk) (1.5.2)\n",
            "Requirement already satisfied: regex>=2021.8.3 in /usr/local/lib/python3.12/dist-packages (from nltk) (2024.11.6)\n",
            "Requirement already satisfied: tqdm in /usr/local/lib/python3.12/dist-packages (from nltk) (4.67.1)\n",
            "All libraries imported and datasets downloaded successfully!\n",
            "\n",
            "Original Text:\n",
            "Natural Language Processing is a field of computer science, artificial intelligence and computational linguistics. \n",
            "\n",
            "Tokens:\n",
            "['Natural', 'Language', 'Processing', 'is', 'a', 'field', 'of', 'computer', 'science', ',', 'artificial', 'intelligence', 'and', 'computational', 'linguistics', '.'] \n",
            "\n",
            "After Stopword Removal:\n",
            "['Natural', 'Language', 'Processing', 'field', 'computer', 'science', ',', 'artificial', 'intelligence', 'computational', 'linguistics', '.'] \n",
            "\n",
            "After Stemming:\n",
            "['natur', 'languag', 'process', 'field', 'comput', 'scienc', ',', 'artifici', 'intellig', 'comput', 'linguist', '.'] \n",
            "\n",
            "After Lemmatization:\n",
            "['Natural', 'Language', 'Processing', 'field', 'computer', 'science', ',', 'artificial', 'intelligence', 'computational', 'linguistics', '.'] \n",
            "\n",
            "POS Tags:\n",
            "[('Natural', 'JJ'), ('Language', 'NNP'), ('Processing', 'NNP'), ('field', 'NN'), ('computer', 'NN'), ('science', 'NN'), (',', ','), ('artificial', 'JJ'), ('intelligence', 'NN'), ('computational', 'JJ'), ('linguistics', 'NNS'), ('.', '.')] \n",
            "\n",
            "Word Frequency:\n",
            "[('Natural', 1), ('Language', 1), ('Processing', 1), ('field', 1), ('computer', 1), ('science', 1), (',', 1), ('artificial', 1), ('intelligence', 1), ('computational', 1), ('linguistics', 1), ('.', 1)]\n"
          ]
        }
      ]
    }
  ]
}